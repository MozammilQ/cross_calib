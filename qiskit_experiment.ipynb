{
 "cells": [
  {
   "cell_type": "code",
   "execution_count": null,
   "id": "a3db9e21",
   "metadata": {},
   "outputs": [],
   "source": [
    "import numpy as np"
   ]
  },
  {
   "cell_type": "code",
   "execution_count": null,
   "id": "a680b9f2",
   "metadata": {},
   "outputs": [],
   "source": [
    "import qiskit.pulse as pulse"
   ]
  },
  {
   "cell_type": "code",
   "execution_count": null,
   "id": "a09d5944",
   "metadata": {},
   "outputs": [],
   "source": [
    "from qiskit.circuit import Parameter"
   ]
  },
  {
   "cell_type": "code",
   "execution_count": null,
   "id": "9c6a389b",
   "metadata": {},
   "outputs": [],
   "source": [
    "from qiskit_experiments.calibration_management.backend_calibrations import BackendCalibrations"
   ]
  },
  {
   "cell_type": "code",
   "execution_count": null,
   "id": "db9607e2",
   "metadata": {},
   "outputs": [],
   "source": [
    "from qiskit import IBMQ, schedule"
   ]
  },
  {
   "cell_type": "code",
   "execution_count": null,
   "id": "67459244",
   "metadata": {},
   "outputs": [],
   "source": [
    "IBMQ.load_account()"
   ]
  },
  {
   "cell_type": "code",
   "execution_count": null,
   "id": "e8d8832c",
   "metadata": {},
   "outputs": [],
   "source": [
    "provider=IBMQ.get_provider(hub='ibm-q', group='open', project='main')"
   ]
  },
  {
   "cell_type": "code",
   "execution_count": null,
   "id": "7d5e9bfe",
   "metadata": {},
   "outputs": [],
   "source": [
    "backend=provider.get_backend(\"ibmq_armonk\")"
   ]
  },
  {
   "cell_type": "code",
   "execution_count": null,
   "id": "462d6b4d",
   "metadata": {},
   "outputs": [],
   "source": [
    "backend.status()"
   ]
  },
  {
   "cell_type": "code",
   "execution_count": null,
   "id": "60093880",
   "metadata": {},
   "outputs": [],
   "source": [
    "qubit=0"
   ]
  },
  {
   "cell_type": "code",
   "execution_count": null,
   "id": "47ff4b28",
   "metadata": {},
   "outputs": [],
   "source": [
    "def setup_cals(backend) -> BackendCalibrations:\n",
    "    \"\"\"A function to instantiate calibrations and add a couple of template schedules.\"\"\"\n",
    "    cals = BackendCalibrations(backend)\n",
    "\n",
    "    dur = Parameter(\"dur\")\n",
    "    amp = Parameter(\"amp\")\n",
    "    sigma = Parameter(\"σ\")\n",
    "    beta = Parameter(\"β\")\n",
    "    drive = pulse.DriveChannel(Parameter(\"ch0\"))\n",
    "\n",
    "    # Define and add template schedules.\n",
    "    with pulse.build(name=\"xp\") as xp:\n",
    "        pulse.play(pulse.Drag(dur, amp, sigma, beta), drive)\n",
    "\n",
    "    with pulse.build(name=\"xm\") as xm:\n",
    "        pulse.play(pulse.Drag(dur, -amp, sigma, beta), drive)\n",
    "\n",
    "    with pulse.build(name=\"x90p\") as x90p:\n",
    "        pulse.play(pulse.Drag(dur, Parameter(\"amp\"), sigma, Parameter(\"β\")), drive)\n",
    "\n",
    "    cals.add_schedule(xp)\n",
    "    cals.add_schedule(xm)\n",
    "    cals.add_schedule(x90p)\n",
    "\n",
    "    return cals\n",
    "\n",
    "def add_parameter_guesses(cals: BackendCalibrations):\n",
    "    \"\"\"Add guesses for the parameter values to the calibrations.\"\"\"\n",
    "    for sched in [\"xp\", \"x90p\"]:\n",
    "        cals.add_parameter_value(80, \"σ\", schedule=sched)\n",
    "        cals.add_parameter_value(0.5, \"β\", schedule=sched)\n",
    "        cals.add_parameter_value(320, \"dur\", schedule=sched)\n",
    "        cals.add_parameter_value(0.5, \"amp\", schedule=sched)\n"
   ]
  },
  {
   "cell_type": "code",
   "execution_count": null,
   "id": "ad9fd0b8",
   "metadata": {},
   "outputs": [],
   "source": [
    "cals = setup_cals(backend)\n",
    "add_parameter_guesses(cals)"
   ]
  },
  {
   "cell_type": "code",
   "execution_count": null,
   "id": "31eccc0d",
   "metadata": {},
   "outputs": [],
   "source": [
    "from qiskit_experiments.calibration_management.basis_gate_library import FixedFrequencyTransmon"
   ]
  },
  {
   "cell_type": "code",
   "execution_count": null,
   "id": "a27fbc20",
   "metadata": {},
   "outputs": [],
   "source": [
    "library = FixedFrequencyTransmon(default_values={\"duration\": 320})\n",
    "cals = BackendCalibrations(backend, library)"
   ]
  },
  {
   "cell_type": "code",
   "execution_count": null,
   "id": "582edfe5",
   "metadata": {},
   "outputs": [],
   "source": [
    "from qiskit_experiments.library.characterization.qubit_spectroscopy import QubitSpectroscopy"
   ]
  },
  {
   "cell_type": "code",
   "execution_count": null,
   "id": "1901cec6",
   "metadata": {},
   "outputs": [],
   "source": [
    "import pandas as pd"
   ]
  },
  {
   "cell_type": "code",
   "execution_count": null,
   "id": "cf9825b1",
   "metadata": {},
   "outputs": [],
   "source": [
    "pd.DataFrame(cals.parameters_table(qubit_list=[qubit, ()]))"
   ]
  },
  {
   "cell_type": "code",
   "execution_count": null,
   "id": "87857654",
   "metadata": {},
   "outputs": [],
   "source": [
    "freq01_estimate = backend.defaults().qubit_freq_est[qubit]\n",
    "frequencies = np.linspace(freq01_estimate -15e6, freq01_estimate + 15e6, 51)\n",
    "spec = QubitSpectroscopy(qubit, frequencies)\n",
    "spec.set_experiment_options(amp=0.1)"
   ]
  },
  {
   "cell_type": "code",
   "execution_count": null,
   "id": "86f98b47",
   "metadata": {},
   "outputs": [],
   "source": [
    "circuit = spec.circuits(backend)[0]\n",
    "circuit.draw(output=\"mpl\");"
   ]
  },
  {
   "cell_type": "code",
   "execution_count": null,
   "id": "60c75126",
   "metadata": {},
   "outputs": [],
   "source": [
    "schedule(circuit, backend).draw();"
   ]
  },
  {
   "cell_type": "code",
   "execution_count": null,
   "id": "b3e05ca4",
   "metadata": {},
   "outputs": [],
   "source": [
    "spec_data = spec.run(backend)"
   ]
  },
  {
   "cell_type": "code",
   "execution_count": null,
   "id": "e0d7077a",
   "metadata": {},
   "outputs": [],
   "source": [
    "spec_data.block_for_results()"
   ]
  },
  {
   "cell_type": "code",
   "execution_count": null,
   "id": "97ec3434",
   "metadata": {},
   "outputs": [],
   "source": []
  }
 ],
 "metadata": {
  "kernelspec": {
   "display_name": "Python 3 (ipykernel)",
   "language": "python",
   "name": "python3"
  },
  "language_info": {
   "codemirror_mode": {
    "name": "ipython",
    "version": 3
   },
   "file_extension": ".py",
   "mimetype": "text/x-python",
   "name": "python",
   "nbconvert_exporter": "python",
   "pygments_lexer": "ipython3",
   "version": "3.9.6"
  }
 },
 "nbformat": 4,
 "nbformat_minor": 5
}
