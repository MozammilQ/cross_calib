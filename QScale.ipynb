{
 "cells": [
  {
   "cell_type": "code",
   "execution_count": null,
   "id": "e7d8d891",
   "metadata": {},
   "outputs": [],
   "source": [
    "from qiskit import IBMQ\n",
    "IBMQ.load_account()\n",
    "provider=IBMQ.get_provider(hub=\"ibm-q\", group=\"open\", project=\"main\")\n",
    "backend=provider.get_backend(\"ibmq_armonk\")"
   ]
  },
  {
   "cell_type": "code",
   "execution_count": null,
   "id": "dc093fc2",
   "metadata": {},
   "outputs": [],
   "source": [
    "qubit_n=0\n",
    "mem_slot=0"
   ]
  },
  {
   "cell_type": "code",
   "execution_count": null,
   "id": "99a279d3",
   "metadata": {},
   "outputs": [],
   "source": [
    "drive_sigma_us=0.075\n",
    "freq_span_MHz=30\n",
    "freq_step_MHz=0.5\n",
    "test_drive_ampl=0.05"
   ]
  },
  {
   "cell_type": "code",
   "execution_count": null,
   "id": "bb6b9f8e",
   "metadata": {},
   "outputs": [],
   "source": [
    "from experiments.qubit_freq_sweep import qubit_freq_sweep\n",
    "from experiments.rabi_experiment import rabi_experiment\n",
    "from experiments.ramsey_experiment import ramsey_experiment\n",
    "from experiments.test_funx import test_funx"
   ]
  },
  {
   "cell_type": "code",
   "execution_count": null,
   "id": "40cac20a",
   "metadata": {},
   "outputs": [],
   "source": [
    "qubit_freq=qubit_freq_sweep(backend, qubit_n=qubit_n, mem_slot=mem_slot, freq_span_MHz=freq_span_MHz,\\\n",
    "            freq_step_MHz=freq_step_MHz, drive_sigma_us=drive_sigma_us, drive_ampl=test_drive_ampl, shots_per_freq=1024, wait_time=45)"
   ]
  },
  {
   "cell_type": "code",
   "execution_count": null,
   "id": "9dfa97ab",
   "metadata": {},
   "outputs": [],
   "source": [
    "qubit_freq"
   ]
  },
  {
   "cell_type": "code",
   "execution_count": null,
   "id": "7e7bdf01",
   "metadata": {},
   "outputs": [],
   "source": [
    "pi_amplitude=rabi_experiment(backend=backend, rough_q_freq_Hz=qubit_freq, qubit_n=qubit_n, \\\n",
    "                mem_slot=0, rabi_points=50, drive_ampl_min=0, drive_ampl_max=0.75, \\\n",
    "                drive_sigma_us=drive_sigma_us,  shots_per_point=1024)"
   ]
  },
  {
   "cell_type": "code",
   "execution_count": null,
   "id": "7629088f",
   "metadata": {},
   "outputs": [],
   "source": [
    "pi_amplitude"
   ]
  },
  {
   "cell_type": "code",
   "execution_count": null,
   "id": "93770daa",
   "metadata": {},
   "outputs": [],
   "source": [
    "mean_gnd, mean_exc=test_funx(backend=backend, pi_ampl=pi_amplitude, rough_q_freq_Hz=qubit_freq, qubit_n=qubit_n, \\\n",
    "                mem_slot=0, drive_sigma_us=drive_sigma_us, shots_per_freq=1024)"
   ]
  },
  {
   "cell_type": "code",
   "execution_count": null,
   "id": "fbc0e2ba",
   "metadata": {},
   "outputs": [],
   "source": [
    "mean_gnd, mean_exc"
   ]
  },
  {
   "cell_type": "code",
   "execution_count": null,
   "id": "262c5154",
   "metadata": {},
   "outputs": [],
   "source": [
    "precise_q_freq_Hz=ramsey_experiment(backend=backend, pi_ampl=pi_amplitude, rough_q_freq_Hz=qubit_freq, \\\n",
    "                mean_gnd=mean_gnd, mean_exc=mean_exc, qubit_n=qubit_n, mem_slot=0, time_max_us=1.8, \\\n",
    "                time_step_us=0.025, drive_sigma_us=0.075, wait_time=45, num_shots=256)"
   ]
  },
  {
   "cell_type": "code",
   "execution_count": null,
   "id": "e974f7b3",
   "metadata": {},
   "outputs": [],
   "source": [
    "precise_q_freq_Hz"
   ]
  },
  {
   "cell_type": "code",
   "execution_count": null,
   "id": "ddee2067",
   "metadata": {},
   "outputs": [],
   "source": []
  },
  {
   "cell_type": "code",
   "execution_count": null,
   "id": "116958e0",
   "metadata": {},
   "outputs": [],
   "source": [
    "pi_amplitude=rabi_experiment(backend=backend, rough_q_freq_Hz=qubit_freq, qubit_n=qubit_n, \\\n",
    "                mem_slot=0, rabi_points=50, drive_ampl_min=0, drive_ampl_max=0.75, \\\n",
    "                drive_sigma_us=drive_sigma_us,  shots_per_point=1024)"
   ]
  },
  {
   "cell_type": "code",
   "execution_count": null,
   "id": "85a3b8c8",
   "metadata": {},
   "outputs": [],
   "source": [
    "pi_amplitude"
   ]
  },
  {
   "cell_type": "code",
   "execution_count": null,
   "id": "b96889c2",
   "metadata": {},
   "outputs": [],
   "source": [
    "import numpy as np"
   ]
  },
  {
   "cell_type": "code",
   "execution_count": null,
   "id": "60c4141e",
   "metadata": {},
   "outputs": [],
   "source": [
    "drive_duration_ns=10*2\n",
    "ns=1.0E-9"
   ]
  },
  {
   "cell_type": "code",
   "execution_count": null,
   "id": "b6425a1f",
   "metadata": {},
   "outputs": [],
   "source": [
    "drive_duration_sec=drive_duration_ns*ns"
   ]
  },
  {
   "cell_type": "code",
   "execution_count": null,
   "id": "0c669efd",
   "metadata": {},
   "outputs": [],
   "source": [
    "drive_sigma_ns=2.5*2\n",
    "drive_sigma_sec=drive_sigma_ns*ns"
   ]
  },
  {
   "cell_type": "code",
   "execution_count": null,
   "id": "734c55d2",
   "metadata": {},
   "outputs": [],
   "source": [
    "Amplitude=pi_amplitude"
   ]
  },
  {
   "cell_type": "code",
   "execution_count": null,
   "id": "16c52b77",
   "metadata": {},
   "outputs": [],
   "source": [
    "from qiskit import pulse"
   ]
  },
  {
   "cell_type": "code",
   "execution_count": null,
   "id": "db0f267c",
   "metadata": {},
   "outputs": [],
   "source": [
    "def x_16(num):\n",
    "    return int(num + 8 ) - (int(num + 8 ) % 16)"
   ]
  },
  {
   "cell_type": "code",
   "execution_count": null,
   "id": "ec65b3dd",
   "metadata": {},
   "outputs": [],
   "source": [
    "from qiskit.circuit import Parameter"
   ]
  },
  {
   "cell_type": "code",
   "execution_count": null,
   "id": "937c3674",
   "metadata": {},
   "outputs": [],
   "source": [
    "q_s=Parameter('q_s')"
   ]
  },
  {
   "cell_type": "code",
   "execution_count": null,
   "id": "88f6f99a",
   "metadata": {},
   "outputs": [],
   "source": [
    "with pulse.build(backend=backend, default_alignment='sequential', name=\"Drag_Pulse\") as drag_pulse_x:\n",
    "    drive_duration_samples=x_16(pulse.seconds_to_samples(drive_duration_sec))\n",
    "    drive_sigma_samples=x_16(pulse.seconds_to_samples(drive_sigma_sec))\n",
    "    drag_pi_by_2_pls=pulse.Drag(drive_duration_samples, Amplitude/2, drive_sigma_samples, q_s, name=\"QScale Calibration\")\n",
    "    drag_pi_pulse=pulse.Drag(drive_duration_samples, Amplitude, drive_sigma_samples, q_s, name=\"Qscale Calibration\")\n",
    "    drive_chanl=pulse.drive_channel(qubit_n)\n",
    "    pulse.set_frequency(precise_q_freq_Hz, drive_chanl)\n",
    "    \n",
    "    pulse.play(drag_pi_by_2_pls, drive_chanl)\n",
    "    \n",
    "    pulse.play(drag_pi_pulse, drive_chanl)\n",
    "    \n",
    "    pulse.measure(qubits=[qubit_n], registers=[pulse.MemorySlot(mem_slot)])"
   ]
  },
  {
   "cell_type": "code",
   "execution_count": null,
   "id": "86c11828",
   "metadata": {},
   "outputs": [],
   "source": [
    "with pulse.build(backend=backend, default_alignment='sequential', name=\"Drag_Pulse\") as drag_pulse_neg_y:\n",
    "    drive_duration_samples=x_16(pulse.seconds_to_samples(drive_duration_sec))\n",
    "    drive_sigma_samples=x_16(pulse.seconds_to_samples(drive_sigma_sec))\n",
    "    drag_pi_by_2_pls=pulse.Drag(drive_duration_samples, Amplitude/2, drive_sigma_samples, q_s, name=\"QScale Calibration\")\n",
    "    drag_pi_pulse=pulse.Drag(drive_duration_samples, Amplitude, drive_sigma_samples, q_s, name=\"Qscale Calibration\")\n",
    "    drive_chanl=pulse.drive_channel(qubit_n)\n",
    "    pulse.set_frequency(precise_q_freq_Hz, drive_chanl)\n",
    "    \n",
    "    pulse.play(drag_pi_by_2_pls, drive_chanl)\n",
    "    \n",
    "    pulse.shift_phase(-np.pi/2, drive_chanl)\n",
    "    \n",
    "    pulse.play(drag_pi_pulse, drive_chanl)    \n",
    "    \n",
    "    pulse.measure(qubits=[qubit_n], registers=[pulse.MemorySlot(mem_slot)])"
   ]
  },
  {
   "cell_type": "code",
   "execution_count": null,
   "id": "ebafc25a",
   "metadata": {},
   "outputs": [],
   "source": [
    "with pulse.build(backend=backend, default_alignment='sequential', name=\"Drag_Pulse\") as drag_pulse_y:\n",
    "    drive_duration_samples=x_16(pulse.seconds_to_samples(drive_duration_sec))\n",
    "    drive_sigma_samples=x_16(pulse.seconds_to_samples(drive_sigma_sec))\n",
    "    drag_pi_by_2_pls=pulse.Drag(drive_duration_samples, Amplitude/2, drive_sigma_samples, q_s, name=\"QScale Calibration\")\n",
    "    drag_pi_pulse=pulse.Drag(drive_duration_samples, Amplitude, drive_sigma_samples, q_s, name=\"Qscale Calibration\")\n",
    "    drive_chanl=pulse.drive_channel(qubit_n)\n",
    "    pulse.set_frequency(precise_q_freq_Hz, drive_chanl)\n",
    "    \n",
    "    pulse.play(drag_pi_by_2_pls, drive_chanl)\n",
    "    \n",
    "    pulse.shift_phase(+np.pi/2, drive_chanl)\n",
    "    \n",
    "    pulse.play(drag_pi_pulse, drive_chanl)    \n",
    "    \n",
    "    pulse.measure(qubits=[qubit_n], registers=[pulse.MemorySlot(mem_slot)])"
   ]
  },
  {
   "cell_type": "code",
   "execution_count": null,
   "id": "195c0bcf",
   "metadata": {},
   "outputs": [],
   "source": [
    "num_of_experiments=60\n",
    "q_s_range=np.linspace(-1.5,1.5,num_of_experiments)"
   ]
  },
  {
   "cell_type": "code",
   "execution_count": null,
   "id": "6cf8a5f7",
   "metadata": {},
   "outputs": [],
   "source": [
    "schedules_x=[drag_pulse_x.assign_parameters({q_s: qscale}, inplace=False) for qscale in q_s_range]\n",
    "schedules_neg_y=[drag_pulse_neg_y.assign_parameters({q_s: qscale}, inplace=False) for qscale in q_s_range]\n",
    "schedules_y=[drag_pulse_y.assign_parameters({q_s: qscale}, inplace=False) for qscale in q_s_range]"
   ]
  },
  {
   "cell_type": "code",
   "execution_count": null,
   "id": "b8ee482d",
   "metadata": {},
   "outputs": [],
   "source": [
    "schedules_x[-1].draw(backend=backend);"
   ]
  },
  {
   "cell_type": "code",
   "execution_count": null,
   "id": "2d4438d8",
   "metadata": {},
   "outputs": [],
   "source": [
    "schedules_neg_y[-1].draw(backend=backend);"
   ]
  },
  {
   "cell_type": "code",
   "execution_count": null,
   "id": "6973cf7b",
   "metadata": {},
   "outputs": [],
   "source": [
    "schedules_y[-1].draw(backend=backend);"
   ]
  },
  {
   "cell_type": "code",
   "execution_count": null,
   "id": "45365d40",
   "metadata": {},
   "outputs": [],
   "source": [
    "num_of_shots_per_point=1024"
   ]
  },
  {
   "cell_type": "code",
   "execution_count": null,
   "id": "79fa9dcf",
   "metadata": {},
   "outputs": [],
   "source": [
    "job_x=backend.run(schedules_x, meas_level=1, meas_return='single', shots=num_of_shots_per_point)"
   ]
  },
  {
   "cell_type": "code",
   "execution_count": null,
   "id": "2f66197b",
   "metadata": {},
   "outputs": [],
   "source": [
    "job_x.wait_for_final_state(timeout=None, wait=30, callback=None)"
   ]
  },
  {
   "cell_type": "code",
   "execution_count": null,
   "id": "7937a93b",
   "metadata": {},
   "outputs": [],
   "source": [
    "result_shed_x=job_x.result(timeout=120)"
   ]
  },
  {
   "cell_type": "code",
   "execution_count": null,
   "id": "e5daf0b7",
   "metadata": {},
   "outputs": [],
   "source": [
    "import math\n",
    "\n",
    "def classify(point: complex):\n",
    "    \"\"\"Classify the given state as |0> or |1>.\"\"\"\n",
    "    def distance(a, b):\n",
    "        return math.sqrt((np.real(a) - np.real(b))**2 + (np.imag(a) - np.imag(b))**2)\n",
    "    return int(distance(point, mean_exc) < distance(point, mean_gnd))"
   ]
  },
  {
   "cell_type": "code",
   "execution_count": null,
   "id": "77a499d5",
   "metadata": {},
   "outputs": [],
   "source": [
    "scale_fact=1.0E-14"
   ]
  },
  {
   "cell_type": "code",
   "execution_count": null,
   "id": "7612516a",
   "metadata": {},
   "outputs": [],
   "source": [
    "_x_val=[]\n",
    "for i in range(len(q_s_range)):\n",
    "    iq_data=result_shed_x.get_memory(i)[:,qubit_n]*scale_fact\n",
    "    _x_val.append(sum(map(classify, iq_data))/num_of_shots_per_point)"
   ]
  },
  {
   "cell_type": "code",
   "execution_count": null,
   "id": "ebbd7f8b",
   "metadata": {},
   "outputs": [],
   "source": [
    "from matplotlib import pyplot"
   ]
  },
  {
   "cell_type": "code",
   "execution_count": null,
   "id": "3d8fc53a",
   "metadata": {},
   "outputs": [],
   "source": [
    "pyplot.scatter(q_s_range, _x_val, color='black');"
   ]
  },
  {
   "cell_type": "code",
   "execution_count": null,
   "id": "9d1c0ce7",
   "metadata": {},
   "outputs": [],
   "source": [
    "job_neg_y=backend.run(schedules_neg_y, meas_level=1, meas_return='single', shots=num_of_shots_per_point)"
   ]
  },
  {
   "cell_type": "code",
   "execution_count": null,
   "id": "562897ac",
   "metadata": {},
   "outputs": [],
   "source": [
    "job_neg_y.wait_for_final_state(timeout=None, wait=30, callback=None)"
   ]
  },
  {
   "cell_type": "code",
   "execution_count": null,
   "id": "3af495cc",
   "metadata": {},
   "outputs": [],
   "source": [
    "result_shed_neg_y=job_neg_y.result(timeout=120)"
   ]
  },
  {
   "cell_type": "code",
   "execution_count": null,
   "id": "4ec49cf6",
   "metadata": {},
   "outputs": [],
   "source": [
    "neg_y_val=[]\n",
    "for i in range(len(q_s_range)):\n",
    "    iq_data=result_shed_neg_y.get_memory(i)[:,qubit_n]*scale_fact\n",
    "    neg_y_val.append(sum(map(classify, iq_data))/num_of_shots_per_point)"
   ]
  },
  {
   "cell_type": "code",
   "execution_count": null,
   "id": "15297d91",
   "metadata": {},
   "outputs": [],
   "source": [
    "pyplot.scatter(q_s_range, neg_y_val, color=\"blue\")"
   ]
  },
  {
   "cell_type": "code",
   "execution_count": null,
   "id": "0250a8c6",
   "metadata": {},
   "outputs": [],
   "source": [
    "job_y=backend.run(schedules_y, meas_level=1, meas_return='single', shots=num_of_shots_per_point)"
   ]
  },
  {
   "cell_type": "code",
   "execution_count": null,
   "id": "6b98dfde",
   "metadata": {},
   "outputs": [],
   "source": [
    "job_y.wait_for_final_state()"
   ]
  },
  {
   "cell_type": "code",
   "execution_count": null,
   "id": "f4a95ffe",
   "metadata": {},
   "outputs": [],
   "source": [
    "result_shed_y=job_y.result(timeout=120)"
   ]
  },
  {
   "cell_type": "code",
   "execution_count": null,
   "id": "110b9ae8",
   "metadata": {},
   "outputs": [],
   "source": [
    "_y_val=[]\n",
    "for i in range(len(q_s_rang)):\n",
    "    iq_data=result_shed_y.get_memory(i)[:, qubit_n]*scale_fact\n",
    "    _y_val.append(sum(map(classify, iq_data))/num_of_shots_per_point)"
   ]
  },
  {
   "cell_type": "code",
   "execution_count": null,
   "id": "4987183d",
   "metadata": {},
   "outputs": [],
   "source": [
    "pyplot.scatter(q_s_range,_y_val, color=\"red\")"
   ]
  },
  {
   "cell_type": "code",
   "execution_count": null,
   "id": "f6c36bef",
   "metadata": {},
   "outputs": [],
   "source": []
  },
  {
   "cell_type": "code",
   "execution_count": null,
   "id": "26407480",
   "metadata": {},
   "outputs": [],
   "source": [
    "with pulse.build(backend=backend, default_alignment='sequential', name=\"Drag_Pulse\") as drag_pulse_neg_y:\n",
    "    drive_duration_samples=x_16(pulse.seconds_to_samples(drive_duration_sec))\n",
    "    drive_sigma_samples=x_16(pulse.seconds_to_samples(drive_sigma_sec))\n",
    "    drag_pls=pulse.Drag(drive_duration_samples, Amplitude, drive_sigma_samples, q_s, name=\"QScale Calibration\")\n",
    "    drive_chanl=pulse.drive_channel(qubit_n)\n",
    "    pulse.set_frequency(precise_q_freq_Hz, drive_chanl)\n",
    "    pulse.shift_phase(-np.pi/2, drive_chanl)\n",
    "    pulse.play(drag_pls, drive_chanl)\n",
    "    pulse.measure(qubits=[qubit_n], registers=[pulse.MemorySlot(mem_slot)])\n",
    "\n",
    "with pulse.build(backend=backend, default_alignment='sequential', name=\"Drag_Pulse\") as drag_pulse_y:\n",
    "    drive_duration_samples=x_16(pulse.seconds_to_samples(drive_duration_sec))\n",
    "    drive_sigma_samples=x_16(pulse.seconds_to_samples(drive_sigma_sec))\n",
    "    drag_pls=pulse.Drag(drive_duration_samples, Amplitude, drive_sigma_samples, q_s, name=\"QScale Calibration\")\n",
    "    drive_chanl=pulse.drive_channel(qubit_n)\n",
    "    pulse.shift_phase(+np.pi/2, drive_chanl)\n",
    "    pulse.play(drag_pls, drive_chanl)\n",
    "    pulse.measure(qubits=[qubit_n], registers=[pulse.MemorySlot(mem_slot)])\n",
    "\n",
    "with pulse.build(backend=backend, default_alignment='sequential', name=\"Drag_Pulse\") as drag_pulse_x:\n",
    "    drive_duration_samples=x_16(pulse.seconds_to_samples(drive_duration_sec))\n",
    "    drive_sigma_samples=x_16(pulse.seconds_to_samples(drive_sigma_sec))\n",
    "    drag_pls=pulse.Drag(drive_duration_samples, Amplitude, drive_sigma_samples, q_s, name=\"QScale Calibration\")\n",
    "    drive_chanl=pulse.drive_channel(qubit_n)\n",
    "    pulse.set_frequency(precise_q_freq_Hz, drive_chanl)\n",
    "    pulse.play(drag_pls, drive_chanl)\n",
    "    pulse.measure(qubits=[qubit_n], registers=[pulse.MemorySlot(mem_slot)])"
   ]
  },
  {
   "cell_type": "code",
   "execution_count": null,
   "id": "87627abd",
   "metadata": {},
   "outputs": [],
   "source": []
  }
 ],
 "metadata": {
  "kernelspec": {
   "display_name": "Python 3 (ipykernel)",
   "language": "python",
   "name": "python3"
  },
  "language_info": {
   "codemirror_mode": {
    "name": "ipython",
    "version": 3
   },
   "file_extension": ".py",
   "mimetype": "text/x-python",
   "name": "python",
   "nbconvert_exporter": "python",
   "pygments_lexer": "ipython3",
   "version": "3.9.6"
  }
 },
 "nbformat": 4,
 "nbformat_minor": 5
}
